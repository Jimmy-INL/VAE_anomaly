{
 "cells": [
  {
   "cell_type": "code",
   "execution_count": 217,
   "metadata": {},
   "outputs": [
    {
     "name": "stdout",
     "output_type": "stream",
     "text": [
      "PyTorch version: 0.4.1\n",
      "torchvision version: 0.2.1\n",
      "Is GPU available: True\n"
     ]
    }
   ],
   "source": [
    "import numpy as np\n",
    "import matplotlib.pyplot as plt\n",
    "%matplotlib inline\n",
    "import os\n",
    "from PIL import Image\n",
    "from sklearn.model_selection import train_test_split\n",
    "\n",
    "import torch\n",
    "from torch import nn, optim\n",
    "from torch.nn import functional as F\n",
    "from torch.utils.data import DataLoader\n",
    "\n",
    "import torchvision\n",
    "from torchvision import datasets, transforms\n",
    "from torchvision.utils import make_grid\n",
    "\n",
    "print('PyTorch version:', torch.__version__)\n",
    "print('torchvision version:', torchvision.__version__)\n",
    "use_gpu = torch.cuda.is_available()\n",
    "print('Is GPU available:', use_gpu)"
   ]
  },
  {
   "cell_type": "code",
   "execution_count": 218,
   "metadata": {},
   "outputs": [
    {
     "name": "stdout",
     "output_type": "stream",
     "text": [
      "device: cuda\n"
     ]
    }
   ],
   "source": [
    "# general settings\n",
    "device = torch.device('cuda' if use_gpu else 'cpu')\n",
    "print('device:', device)\n",
    "\n",
    "# batchsize\n",
    "batchsize = 100\n",
    "\n",
    "# random seed\n",
    "seed = 1\n",
    "torch.manual_seed(seed)\n",
    "\n",
    "if use_gpu:\n",
    "    torch.cuda.manual_seed(seed)"
   ]
  },
  {
   "cell_type": "code",
   "execution_count": 219,
   "metadata": {},
   "outputs": [
    {
     "name": "stdout",
     "output_type": "stream",
     "text": [
      "Using downloaded and verified file: ../../data/train_32x32.mat\n",
      "Using downloaded and verified file: ../../data/test_32x32.mat\n"
     ]
    }
   ],
   "source": [
    "# compose transformsted))\n",
    "tf = transforms.Compose([transforms.ToTensor(), transforms.Normalize((0.5, 0.5, 0.5), (0.5, 0.5, 0.5))])\n",
    "\n",
    "# using SVHN dataset\n",
    "training_data = datasets.SVHN(root = '../../data', split = 'train', transform = tf, download = True)\n",
    "test_data = datasets.SVHN(root = '../../data', split = 'test', transform = tf, download = True)"
   ]
  },
  {
   "cell_type": "code",
   "execution_count": 220,
   "metadata": {},
   "outputs": [
    {
     "name": "stdout",
     "output_type": "stream",
     "text": [
      "The number of training data: 58605\n",
      "The number of validation data 14652\n"
     ]
    }
   ],
   "source": [
    "# split to training data and validation data\n",
    "train_data, validation_data = train_test_split(training_data, test_size = 0.2, random_state = seed)\n",
    "print('The number of training data:', len(train_data))\n",
    "print('The number of validation data', len(validation_data))"
   ]
  },
  {
   "cell_type": "code",
   "execution_count": 221,
   "metadata": {},
   "outputs": [],
   "source": [
    "# prepare data loader\n",
    "train_loader = DataLoader(train_data, batch_size = batchsize, shuffle = True)\n",
    "validation_loader = DataLoader(validation_data, batch_size = batchsize, shuffle = False)"
   ]
  },
  {
   "cell_type": "code",
   "execution_count": 222,
   "metadata": {},
   "outputs": [],
   "source": [
    "# define downsampling parts for convenience\n",
    "class Downsampler(nn.Module):\n",
    "    def __init__(self, in_channels, out_channels, ksize = 4, ssize = 2, psize = 1):\n",
    "        super(Downsampler, self).__init__()\n",
    "        self.cv = nn.Conv2d(in_channels, out_channels, kernel_size = ksize, stride = ssize, padding = psize)\n",
    "        self.bn = nn.BatchNorm2d(out_channels)\n",
    "        self.rl = nn.ReLU()\n",
    "        \n",
    "    def only_conv(self, x):\n",
    "        return self.cv(x)\n",
    "        \n",
    "    def forward(self, x):\n",
    "        out = self.cv(x)\n",
    "        out = self.bn(out)\n",
    "        out = self.rl(out)\n",
    "        return out"
   ]
  },
  {
   "cell_type": "code",
   "execution_count": 223,
   "metadata": {},
   "outputs": [],
   "source": [
    "# define upsampling parts for convenience\n",
    "class Upsampler(nn.Module):\n",
    "    def __init__(self, in_channels, out_channels, ksize = 4, ssize = 2, psize = 1):\n",
    "        super(Upsampler, self).__init__()\n",
    "        self.tc = nn.ConvTranspose2d(in_channels, out_channels, kernel_size = ksize, stride = ssize, padding = psize)\n",
    "        self.bn = nn.BatchNorm2d(out_channels)\n",
    "        self.rl = nn.ReLU()\n",
    "        \n",
    "    def forward(self, x):\n",
    "        out = self.tc(x)\n",
    "        out = self.bn(out)\n",
    "        out = self.rl(out)\n",
    "        return out"
   ]
  },
  {
   "cell_type": "code",
   "execution_count": 299,
   "metadata": {},
   "outputs": [],
   "source": [
    "class AutoEncoder(nn.Module):\n",
    "    def __init__(self):\n",
    "        super(AutoEncoder, self).__init__()\n",
    "        self.encoder = nn.Sequential(\n",
    "                            Downsampler(  3,  16),\n",
    "                            Downsampler( 16,  32),\n",
    "                            Downsampler( 32,  64),\n",
    "                            Downsampler( 64, 128)\n",
    "        )\n",
    "        \n",
    "        self.decoder = nn.Sequential(\n",
    "                            Upsampler( 128, 64),\n",
    "                            Upsampler(  64, 32),\n",
    "                            Upsampler(  32, 16),\n",
    "                            nn.ConvTranspose2d( 16, 3, kernel_size = 4, stride = 2, padding = 1)\n",
    "        )\n",
    "        \n",
    "    def get_feature_map(self, x, n_layers):\n",
    "        if n_layers > len(self.encoder) or n_layers < 1:\n",
    "            raise ValueError('n_layres must be in [1,2,...len(self_encoder)]')\n",
    "            \n",
    "        for i in range(n_layers-1):\n",
    "            x = self.encoder[i](x)\n",
    "        out = self.encoder[n_layers-1].only_conv(x)\n",
    "        return out\n",
    "        \n",
    "    def forward(self, x):\n",
    "        encode_x = self.encoder(x)\n",
    "        recon_x = torch.tanh(self.decoder(encode_x))\n",
    "        return recon_x"
   ]
  },
  {
   "cell_type": "code",
   "execution_count": 300,
   "metadata": {},
   "outputs": [
    {
     "name": "stdout",
     "output_type": "stream",
     "text": [
      "The number of trainable parameters: 346659\n",
      "\n",
      "Model:\n",
      " AutoEncoder(\n",
      "  (encoder): Sequential(\n",
      "    (0): Downsampler(\n",
      "      (cv): Conv2d(3, 16, kernel_size=(4, 4), stride=(2, 2), padding=(1, 1))\n",
      "      (bn): BatchNorm2d(16, eps=1e-05, momentum=0.1, affine=True, track_running_stats=True)\n",
      "      (rl): ReLU()\n",
      "    )\n",
      "    (1): Downsampler(\n",
      "      (cv): Conv2d(16, 32, kernel_size=(4, 4), stride=(2, 2), padding=(1, 1))\n",
      "      (bn): BatchNorm2d(32, eps=1e-05, momentum=0.1, affine=True, track_running_stats=True)\n",
      "      (rl): ReLU()\n",
      "    )\n",
      "    (2): Downsampler(\n",
      "      (cv): Conv2d(32, 64, kernel_size=(4, 4), stride=(2, 2), padding=(1, 1))\n",
      "      (bn): BatchNorm2d(64, eps=1e-05, momentum=0.1, affine=True, track_running_stats=True)\n",
      "      (rl): ReLU()\n",
      "    )\n",
      "    (3): Downsampler(\n",
      "      (cv): Conv2d(64, 128, kernel_size=(4, 4), stride=(2, 2), padding=(1, 1))\n",
      "      (bn): BatchNorm2d(128, eps=1e-05, momentum=0.1, affine=True, track_running_stats=True)\n",
      "      (rl): ReLU()\n",
      "    )\n",
      "  )\n",
      "  (decoder): Sequential(\n",
      "    (0): Upsampler(\n",
      "      (tc): ConvTranspose2d(128, 64, kernel_size=(4, 4), stride=(2, 2), padding=(1, 1))\n",
      "      (bn): BatchNorm2d(64, eps=1e-05, momentum=0.1, affine=True, track_running_stats=True)\n",
      "      (rl): ReLU()\n",
      "    )\n",
      "    (1): Upsampler(\n",
      "      (tc): ConvTranspose2d(64, 32, kernel_size=(4, 4), stride=(2, 2), padding=(1, 1))\n",
      "      (bn): BatchNorm2d(32, eps=1e-05, momentum=0.1, affine=True, track_running_stats=True)\n",
      "      (rl): ReLU()\n",
      "    )\n",
      "    (2): Upsampler(\n",
      "      (tc): ConvTranspose2d(32, 16, kernel_size=(4, 4), stride=(2, 2), padding=(1, 1))\n",
      "      (bn): BatchNorm2d(16, eps=1e-05, momentum=0.1, affine=True, track_running_stats=True)\n",
      "      (rl): ReLU()\n",
      "    )\n",
      "    (3): ConvTranspose2d(16, 3, kernel_size=(4, 4), stride=(2, 2), padding=(1, 1))\n",
      "  )\n",
      ")\n",
      "\n",
      "Loss function:\n",
      " MSELoss()\n",
      "\n",
      "Optimizer:\n",
      " Adam (\n",
      "Parameter Group 0\n",
      "    amsgrad: False\n",
      "    betas: (0.9, 0.999)\n",
      "    eps: 1e-08\n",
      "    lr: 0.0005\n",
      "    weight_decay: 0.0002\n",
      ")\n"
     ]
    }
   ],
   "source": [
    "net = AutoEncoder().to(device)\n",
    "\n",
    "optimizer = optim.Adam(net.parameters(), lr = 0.0005, weight_decay = 0.0002)\n",
    "\n",
    "loss_fn = nn.MSELoss()\n",
    "\n",
    "num_trainable_params = sum(p.numel() for p in net.parameters() if p.requires_grad)\n",
    "\n",
    "# モデルの構造、オプティマイザの表示\n",
    "print('The number of trainable parameters:', num_trainable_params)\n",
    "print('\\nModel:\\n', net)\n",
    "print('\\nLoss function:\\n', loss_fn)\n",
    "print('\\nOptimizer:\\n', optimizer)"
   ]
  },
  {
   "cell_type": "code",
   "execution_count": 301,
   "metadata": {},
   "outputs": [],
   "source": [
    "# the function run training for 1 epoch\n",
    "def train(train_loader):\n",
    "    net.train()\n",
    "    \n",
    "    running_loss = 0\n",
    "    \n",
    "    for inputs, _ in train_loader:\n",
    "        inputs = inputs.to(device)\n",
    "        outputs = net(inputs)\n",
    "        loss = loss_fn(outputs, inputs)\n",
    "        \n",
    "        optimizer.zero_grad()\n",
    "        loss.backward()\n",
    "        optimizer.step()\n",
    "        \n",
    "        running_loss += loss.item()\n",
    "    \n",
    "    average_loss = running_loss / len(train_loader)\n",
    "    \n",
    "    return average_loss"
   ]
  },
  {
   "cell_type": "code",
   "execution_count": 302,
   "metadata": {},
   "outputs": [],
   "source": [
    "# the function run validation\n",
    "def validation(validation_loader):\n",
    "    net.eval()\n",
    "    \n",
    "    running_loss = 0\n",
    "    \n",
    "    with torch.no_grad():\n",
    "        for inputs, _ in train_loader:\n",
    "            inputs = inputs.to(device)\n",
    "            outputs = net(inputs)\n",
    "            running_loss += loss_fn(outputs, inputs).item()\n",
    "    \n",
    "    average_loss = running_loss / len(validation_loader)\n",
    "    \n",
    "    return average_loss"
   ]
  },
  {
   "cell_type": "code",
   "execution_count": 303,
   "metadata": {},
   "outputs": [
    {
     "name": "stdout",
     "output_type": "stream",
     "text": [
      "epoch[1/10] train_loss:0.0249 validation_loss:0.0399\n",
      "epoch[2/10] train_loss:0.0091 validation_loss:0.0615\n",
      "epoch[3/10] train_loss:0.0075 validation_loss:0.0445\n",
      "epoch[4/10] train_loss:0.0068 validation_loss:0.0523\n",
      "epoch[5/10] train_loss:0.0065 validation_loss:0.0289\n",
      "epoch[6/10] train_loss:0.0063 validation_loss:0.0289\n",
      "epoch[7/10] train_loss:0.0061 validation_loss:0.0344\n",
      "epoch[8/10] train_loss:0.0057 validation_loss:0.0256\n",
      "epoch[9/10] train_loss:0.0054 validation_loss:0.0319\n",
      "epoch[10/10] train_loss:0.0053 validation_loss:0.0337\n"
     ]
    }
   ],
   "source": [
    "n_epochs = 10\n",
    "for epoch in range(n_epochs):\n",
    "    train_loss = train(train_loader)\n",
    "    validation_loss = validation(validation_loader)\n",
    "    \n",
    "    print('epoch[%d/%d] train_loss:%1.4f validation_loss:%1.4f' %(epoch+1, n_epochs, train_loss, validation_loss))"
   ]
  },
  {
   "cell_type": "code",
   "execution_count": 304,
   "metadata": {},
   "outputs": [],
   "source": [
    "def random_erase_for_test(tensor, erasing_height=4, erasing_width=4):\n",
    "    batchsize, channels, height, width = tensor.size()\n",
    "    \n",
    "    for b in range(batchsize):\n",
    "        erasing_h = np.random.randint(height - erasing_height)\n",
    "        erasing_h = [erasing_h, erasing_h + erasing_height]\n",
    "        erasing_w = np.random.randint(width - erasing_width)\n",
    "        erasing_w = [erasing_w, erasing_w + erasing_width]\n",
    "        tensor[b][:, \\\n",
    "                  erasing_h[0]:erasing_h[1], \\\n",
    "                  erasing_w[0]:erasing_w[1]] = torch.ones(erasing_height, erasing_width)\n",
    "    return tensor\n",
    "\n",
    "test_loader = DataLoader(test_data, batch_size = batchsize, shuffle = True)"
   ]
  },
  {
   "cell_type": "code",
   "execution_count": 305,
   "metadata": {},
   "outputs": [],
   "source": [
    "net.eval()\n",
    "with torch.no_grad():\n",
    "    test_input = iter(test_loader).next()[0].to(device)\n",
    "    test_input = random_erase_for_test(test_input)\n",
    "    test_output = net(test_input)"
   ]
  },
  {
   "cell_type": "code",
   "execution_count": 306,
   "metadata": {},
   "outputs": [],
   "source": [
    "def show_image(img):\n",
    "    npimg = img.cpu().numpy() * 0.5 + 0.5\n",
    "    plt.figure(figsize = (8, 8))\n",
    "    plt.imshow(np.transpose(npimg, (1, 2, 0)))"
   ]
  },
  {
   "cell_type": "code",
   "execution_count": 307,
   "metadata": {},
   "outputs": [
    {
     "data": {
      "image/png": "[encoded data removed]",
      "text/plain": [
       "<Figure size 576x576 with 1 Axes>"
      ]
     },
     "metadata": {
      "needs_background": "light"
     },
     "output_type": "display_data"
    },
    {
     "data": {
      "image/png": "[encoded data removed]",
      "text/plain": [
       "<Figure size 576x576 with 1 Axes>"
      ]
     },
     "metadata": {
      "needs_background": "light"
     },
     "output_type": "display_data"
    }
   ],
   "source": [
    "inputs = make_grid(test_input[:10], nrow = 5)\n",
    "outputs = make_grid(test_output[:10], nrow = 5)\n",
    "differences = make_grid(torch.abs(test_input[:10] - test_output[:10]), nrow = 5).mean(dim = 0)\n",
    "show_image(inputs)\n",
    "show_image(outputs)"
   ]
  },
  {
   "cell_type": "code",
   "execution_count": 308,
   "metadata": {},
   "outputs": [
    {
     "data": {
      "text/plain": [
       "<matplotlib.image.AxesImage at 0x7f7baec2fc88>"
      ]
     },
     "execution_count": 308,
     "metadata": {},
     "output_type": "execute_result"
    },
    {
     "data": {
      "image/png": "[encoded data removed]",
      "text/plain": [
       "<Figure size 432x288 with 1 Axes>"
      ]
     },
     "metadata": {
      "needs_background": "light"
     },
     "output_type": "display_data"
    }
   ],
   "source": [
    "plt.imshow(differences > 0.3, cmap = 'gray')"
   ]
  },
  {
   "cell_type": "code",
   "execution_count": 309,
   "metadata": {},
   "outputs": [],
   "source": [
    "class Auto_Feature_Encoder(nn.Module):\n",
    "    def __init__(self):\n",
    "        super(Auto_Feature_Encoder, self).__init__()\n",
    "        self.encoder = nn.Sequential(\n",
    "                            Downsampler(16,  32),\n",
    "                            Downsampler(32,  32),\n",
    "                            Downsampler(32,  64)\n",
    "        )\n",
    "        \n",
    "        self.decoder = nn.Sequential(\n",
    "                            Upsampler(64, 32),\n",
    "                            Upsampler(32, 32),\n",
    "                            nn.ConvTranspose2d(32, 16, kernel_size = 4, stride = 2, padding = 1)\n",
    "        )\n",
    "        \n",
    "    def forward(self, x):\n",
    "        embed_x = self.encoder(x)\n",
    "        recon_x = self.decoder(embed_x)\n",
    "        return recon_x"
   ]
  },
  {
   "cell_type": "code",
   "execution_count": 318,
   "metadata": {},
   "outputs": [],
   "source": [
    "net2 = Auto_Feature_Encoder().to(device)\n",
    "\n",
    "optimizer2 = optim.Adam(net2.parameters(), lr = 0.0001, weight_decay = 0.0001)\n",
    "\n",
    "loss_fn2 = nn.MSELoss()"
   ]
  },
  {
   "cell_type": "code",
   "execution_count": 319,
   "metadata": {},
   "outputs": [],
   "source": [
    "# the function run training for 1 epoch\n",
    "def train2(train_loader):\n",
    "    net.eval()\n",
    "    net2.train()\n",
    "    \n",
    "    running_loss = 0\n",
    "    \n",
    "    for inputs, _ in train_loader:\n",
    "        inputs = inputs.to(device)\n",
    "        with torch.no_grad():\n",
    "            feature_maps = net.get_feature_map(inputs, 1)\n",
    "        outputs = net2(feature_maps)\n",
    "        loss = loss_fn2(outputs, feature_maps)\n",
    "        \n",
    "        optimizer2.zero_grad()\n",
    "        loss.backward()\n",
    "        optimizer2.step()\n",
    "        \n",
    "        running_loss += loss.item()\n",
    "    \n",
    "    average_loss = running_loss / len(train_loader)\n",
    "    \n",
    "    return average_loss"
   ]
  },
  {
   "cell_type": "code",
   "execution_count": 320,
   "metadata": {},
   "outputs": [],
   "source": [
    "# the function run validation\n",
    "def validation2(validation_loader):\n",
    "    net.eval()\n",
    "    net2.eval()\n",
    "    \n",
    "    running_loss = 0\n",
    "    \n",
    "    with torch.no_grad():\n",
    "        for inputs, _ in train_loader:\n",
    "            inputs = inputs.to(device)\n",
    "            feature_maps = net.get_feature_map(inputs, 1)\n",
    "            outputs = net2(feature_maps)\n",
    "            running_loss += loss_fn2(outputs, feature_maps).item()\n",
    "    \n",
    "    average_loss = running_loss / len(validation_loader)\n",
    "    \n",
    "    return average_loss"
   ]
  },
  {
   "cell_type": "code",
   "execution_count": 321,
   "metadata": {},
   "outputs": [
    {
     "name": "stdout",
     "output_type": "stream",
     "text": [
      "epoch[ 1/20] train_loss:0.0043509 validation_loss:0.0077001\n",
      "epoch[ 2/20] train_loss:0.0015358 validation_loss:0.0046302\n",
      "epoch[ 3/20] train_loss:0.0009933 validation_loss:0.0035556\n",
      "epoch[ 4/20] train_loss:0.0007556 validation_loss:0.0028617\n",
      "epoch[ 5/20] train_loss:0.0006325 validation_loss:0.0024328\n",
      "epoch[ 6/20] train_loss:0.0005517 validation_loss:0.0019622\n",
      "epoch[ 7/20] train_loss:0.0005025 validation_loss:0.0022834\n",
      "epoch[ 8/20] train_loss:0.0004595 validation_loss:0.0017035\n",
      "epoch[ 9/20] train_loss:0.0004362 validation_loss:0.0015460\n",
      "epoch[10/20] train_loss:0.0004090 validation_loss:0.0015955\n",
      "epoch[11/20] train_loss:0.0003904 validation_loss:0.0014667\n",
      "epoch[12/20] train_loss:0.0003737 validation_loss:0.0017975\n",
      "epoch[13/20] train_loss:0.0003543 validation_loss:0.0014054\n",
      "epoch[14/20] train_loss:0.0003442 validation_loss:0.0013329\n",
      "epoch[15/20] train_loss:0.0003291 validation_loss:0.0013317\n",
      "epoch[16/20] train_loss:0.0003223 validation_loss:0.0010213\n",
      "epoch[17/20] train_loss:0.0003137 validation_loss:0.0012270\n",
      "epoch[18/20] train_loss:0.0003002 validation_loss:0.0012695\n",
      "epoch[19/20] train_loss:0.0002855 validation_loss:0.0012701\n",
      "epoch[20/20] train_loss:0.0002820 validation_loss:0.0010677\n"
     ]
    }
   ],
   "source": [
    "n_epochs = 20\n",
    "for epoch in range(n_epochs):\n",
    "    train_loss = train2(train_loader)\n",
    "    validation_loss = validation2(validation_loader)\n",
    "    \n",
    "    print('epoch[%2d/%2d] train_loss:%1.7f validation_loss:%1.7f' %(epoch+1, n_epochs, train_loss, validation_loss))"
   ]
  },
  {
   "cell_type": "code",
   "execution_count": 364,
   "metadata": {},
   "outputs": [],
   "source": [
    "net.eval()\n",
    "net2.eval()\n",
    "with torch.no_grad():\n",
    "    test_input = iter(test_loader).next()[0].to(device)\n",
    "    test_input = random_erase_for_test(test_input)\n",
    "    test_output = net(test_input)\n",
    "    feature_map = net.get_feature_map(test_input, 1)\n",
    "    test_output2 = net2(feature_map)"
   ]
  },
  {
   "cell_type": "code",
   "execution_count": 366,
   "metadata": {},
   "outputs": [
    {
     "data": {
      "text/plain": [
       "<matplotlib.image.AxesImage at 0x7f7c5146cda0>"
      ]
     },
     "execution_count": 366,
     "metadata": {},
     "output_type": "execute_result"
    },
    {
     "data": {
      "image/png": "[encoded data removed]",
      "text/plain": [
       "<Figure size 216x216 with 1 Axes>"
      ]
     },
     "metadata": {
      "needs_background": "light"
     },
     "output_type": "display_data"
    }
   ],
   "source": [
    "plt.figure(figsize = (3,3))\n",
    "plt.imshow(np.transpose(inputs.cpu().numpy()*0.5 + 0.5, [1, 2, 0]))"
   ]
  },
  {
   "cell_type": "code",
   "execution_count": 375,
   "metadata": {},
   "outputs": [
    {
     "data": {
      "text/plain": [
       "<matplotlib.image.AxesImage at 0x7f7c5093c860>"
      ]
     },
     "execution_count": 375,
     "metadata": {},
     "output_type": "execute_result"
    },
    {
     "data": {
      "image/png": "[encoded data removed]",
      "text/plain": [
       "<Figure size 216x216 with 1 Axes>"
      ]
     },
     "metadata": {
      "needs_background": "light"
     },
     "output_type": "display_data"
    }
   ],
   "source": [
    "plt.figure(figsize = (3,3))fdaf\n",
    "differences = torch.abs(inputs - outputs).mean(dim = 0)\n",
    "plt.imshow(differences > 0.3, cmap = 'gray')"
   ]
  },
  {
   "cell_type": "code",
   "execution_count": 368,
   "metadata": {},
   "outputs": [],
   "source": [
    "inputs2 = feature_map[index]\n",
    "outputs2 = test_output2[index]"
   ]
  },
  {
   "cell_type": "code",
   "execution_count": 373,
   "metadata": {},
   "outputs": [
    {
     "data": {
      "text/plain": [
       "<matplotlib.image.AxesImage at 0x7f7c5094a438>"
      ]
     },
     "execution_count": 373,
     "metadata": {},
     "output_type": "execute_result"
    },
    {
     "data": {
      "image/png": "[encoded data removed]",
      "text/plain": [
       "<Figure size 432x288 with 1 Axes>"
      ]
     },
     "metadata": {
      "needs_background": "light"
     },
     "output_type": "display_data"
    }
   ],
   "source": [
    "plt.imshow(torch.abs(inputs2 - outputs2).mean(dim = 0) > 0.05, cmap = 'gray')"
   ]
  },
  {
   "cell_type": "code",
   "execution_count": null,
   "metadata": {},
   "outputs": [],
   "source": []
  }
 ],
 "metadata": {
  "kernelspec": {
   "display_name": "Python 3",
   "language": "python",
   "name": "python3"
  },
  "language_info": {
   "codemirror_mode": {
    "name": "ipython",
    "version": 3
   },
   "file_extension": ".py",
   "mimetype": "text/x-python",
   "name": "python",
   "nbconvert_exporter": "python",
   "pygments_lexer": "ipython3",
   "version": "3.5.2"
  }
 },
 "nbformat": 4,
 "nbformat_minor": 2
}
